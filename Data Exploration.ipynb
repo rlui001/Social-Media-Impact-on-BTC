{
 "cells": [
  {
   "cell_type": "markdown",
   "id": "87d334d5",
   "metadata": {},
   "source": [
    "# Data Exploration"
   ]
  },
  {
   "cell_type": "markdown",
   "id": "ee25f1cc",
   "metadata": {},
   "source": [
    "## 1. Google Trends Dataset\n",
    "\n",
    "To get started, I have loaded data from this dataset into a pandas dataframe in order to get a preview of the data itself."
   ]
  },
  {
   "cell_type": "code",
   "execution_count": 2,
   "id": "17fce078",
   "metadata": {},
   "outputs": [
    {
     "data": {
      "text/html": [
       "<div>\n",
       "<style scoped>\n",
       "    .dataframe tbody tr th:only-of-type {\n",
       "        vertical-align: middle;\n",
       "    }\n",
       "\n",
       "    .dataframe tbody tr th {\n",
       "        vertical-align: top;\n",
       "    }\n",
       "\n",
       "    .dataframe thead th {\n",
       "        text-align: right;\n",
       "    }\n",
       "</style>\n",
       "<table border=\"1\" class=\"dataframe\">\n",
       "  <thead>\n",
       "    <tr style=\"text-align: right;\">\n",
       "      <th></th>\n",
       "      <th>date</th>\n",
       "      <th>bitcoin</th>\n",
       "      <th>btc</th>\n",
       "      <th>isPartial</th>\n",
       "    </tr>\n",
       "  </thead>\n",
       "  <tbody>\n",
       "    <tr>\n",
       "      <th>0</th>\n",
       "      <td>2015-01-06 00:00:00</td>\n",
       "      <td>79</td>\n",
       "      <td>9</td>\n",
       "      <td>False</td>\n",
       "    </tr>\n",
       "    <tr>\n",
       "      <th>1</th>\n",
       "      <td>2015-01-06 01:00:00</td>\n",
       "      <td>63</td>\n",
       "      <td>11</td>\n",
       "      <td>False</td>\n",
       "    </tr>\n",
       "    <tr>\n",
       "      <th>2</th>\n",
       "      <td>2015-01-06 02:00:00</td>\n",
       "      <td>67</td>\n",
       "      <td>13</td>\n",
       "      <td>False</td>\n",
       "    </tr>\n",
       "    <tr>\n",
       "      <th>3</th>\n",
       "      <td>2015-01-06 03:00:00</td>\n",
       "      <td>57</td>\n",
       "      <td>13</td>\n",
       "      <td>False</td>\n",
       "    </tr>\n",
       "    <tr>\n",
       "      <th>4</th>\n",
       "      <td>2015-01-06 04:00:00</td>\n",
       "      <td>56</td>\n",
       "      <td>17</td>\n",
       "      <td>False</td>\n",
       "    </tr>\n",
       "  </tbody>\n",
       "</table>\n",
       "</div>"
      ],
      "text/plain": [
       "                  date  bitcoin  btc  isPartial\n",
       "0  2015-01-06 00:00:00       79    9      False\n",
       "1  2015-01-06 01:00:00       63   11      False\n",
       "2  2015-01-06 02:00:00       67   13      False\n",
       "3  2015-01-06 03:00:00       57   13      False\n",
       "4  2015-01-06 04:00:00       56   17      False"
      ]
     },
     "execution_count": 2,
     "metadata": {},
     "output_type": "execute_result"
    }
   ],
   "source": [
    "import pandas as pd\n",
    "\n",
    "path = '/Users/ron/Desktop/Springboard/Data/google_trends.csv'\n",
    "df_google = pd.read_csv(path)\n",
    "df_google.head()"
   ]
  },
  {
   "cell_type": "markdown",
   "id": "7303ea10",
   "metadata": {},
   "source": [
    "We can see here that the date column is in YYYY-MM-DD HH:MM:SS format. The isPartial column is not useful for this project and can be dropped. Finally, we have columns 'bitcoin' and 'btc' which represent how these two keywords were trending. To make it more useful for analysis, we can either sum it up or take the higher of the two to better represent how it was trending.\n",
    "\n",
    "It is highly likely that a separate table will be created as a calendar table to store all possible date parts and also reduce redundancy in the other datasets. This means the date column will be replaced with foreign key to the date table, and we will use the SERIAL data type as the primary key."
   ]
  },
  {
   "cell_type": "markdown",
   "id": "e2649a4f",
   "metadata": {},
   "source": [
    "## 2. Bitstamp Dataset\n",
    "\n",
    "The Bitstamp dataset will be similar to the coinbase dataset. Both will have an epoch timestamp with candlestick data along with volume. We will examine it the same way."
   ]
  },
  {
   "cell_type": "code",
   "execution_count": 5,
   "id": "dfa99e83",
   "metadata": {},
   "outputs": [
    {
     "data": {
      "text/html": [
       "<div>\n",
       "<style scoped>\n",
       "    .dataframe tbody tr th:only-of-type {\n",
       "        vertical-align: middle;\n",
       "    }\n",
       "\n",
       "    .dataframe tbody tr th {\n",
       "        vertical-align: top;\n",
       "    }\n",
       "\n",
       "    .dataframe thead th {\n",
       "        text-align: right;\n",
       "    }\n",
       "</style>\n",
       "<table border=\"1\" class=\"dataframe\">\n",
       "  <thead>\n",
       "    <tr style=\"text-align: right;\">\n",
       "      <th></th>\n",
       "      <th>Timestamp</th>\n",
       "      <th>Open</th>\n",
       "      <th>High</th>\n",
       "      <th>Low</th>\n",
       "      <th>Close</th>\n",
       "      <th>Volume_(BTC)</th>\n",
       "      <th>Volume_(Currency)</th>\n",
       "      <th>Weighted_Price</th>\n",
       "    </tr>\n",
       "  </thead>\n",
       "  <tbody>\n",
       "    <tr>\n",
       "      <th>0</th>\n",
       "      <td>1325317920</td>\n",
       "      <td>4.39</td>\n",
       "      <td>4.39</td>\n",
       "      <td>4.39</td>\n",
       "      <td>4.39</td>\n",
       "      <td>0.455581</td>\n",
       "      <td>2.0</td>\n",
       "      <td>4.39</td>\n",
       "    </tr>\n",
       "    <tr>\n",
       "      <th>1</th>\n",
       "      <td>1325317980</td>\n",
       "      <td>NaN</td>\n",
       "      <td>NaN</td>\n",
       "      <td>NaN</td>\n",
       "      <td>NaN</td>\n",
       "      <td>NaN</td>\n",
       "      <td>NaN</td>\n",
       "      <td>NaN</td>\n",
       "    </tr>\n",
       "    <tr>\n",
       "      <th>2</th>\n",
       "      <td>1325318040</td>\n",
       "      <td>NaN</td>\n",
       "      <td>NaN</td>\n",
       "      <td>NaN</td>\n",
       "      <td>NaN</td>\n",
       "      <td>NaN</td>\n",
       "      <td>NaN</td>\n",
       "      <td>NaN</td>\n",
       "    </tr>\n",
       "    <tr>\n",
       "      <th>3</th>\n",
       "      <td>1325318100</td>\n",
       "      <td>NaN</td>\n",
       "      <td>NaN</td>\n",
       "      <td>NaN</td>\n",
       "      <td>NaN</td>\n",
       "      <td>NaN</td>\n",
       "      <td>NaN</td>\n",
       "      <td>NaN</td>\n",
       "    </tr>\n",
       "    <tr>\n",
       "      <th>4</th>\n",
       "      <td>1325318160</td>\n",
       "      <td>NaN</td>\n",
       "      <td>NaN</td>\n",
       "      <td>NaN</td>\n",
       "      <td>NaN</td>\n",
       "      <td>NaN</td>\n",
       "      <td>NaN</td>\n",
       "      <td>NaN</td>\n",
       "    </tr>\n",
       "  </tbody>\n",
       "</table>\n",
       "</div>"
      ],
      "text/plain": [
       "    Timestamp  Open  High   Low  Close  Volume_(BTC)  Volume_(Currency)  \\\n",
       "0  1325317920  4.39  4.39  4.39   4.39      0.455581                2.0   \n",
       "1  1325317980   NaN   NaN   NaN    NaN           NaN                NaN   \n",
       "2  1325318040   NaN   NaN   NaN    NaN           NaN                NaN   \n",
       "3  1325318100   NaN   NaN   NaN    NaN           NaN                NaN   \n",
       "4  1325318160   NaN   NaN   NaN    NaN           NaN                NaN   \n",
       "\n",
       "   Weighted_Price  \n",
       "0            4.39  \n",
       "1             NaN  \n",
       "2             NaN  \n",
       "3             NaN  \n",
       "4             NaN  "
      ]
     },
     "execution_count": 5,
     "metadata": {},
     "output_type": "execute_result"
    }
   ],
   "source": [
    "path = '/Users/ron/Desktop/Springboard/Data/bitstampUSD_1-min_data_2012-01-01_to_2021-03-31.csv'\n",
    "df_bs = pd.read_csv(path)\n",
    "df_bs.head()"
   ]
  },
  {
   "cell_type": "markdown",
   "id": "6af82fce",
   "metadata": {},
   "source": [
    "The immediate observation here is that there are rows of data showing NaN. For whatever reason, during this period of time no exchange data was captured on Bitstamp. We have a few options here: either we clean the data by setting it to NULL, delete the rows with NaN data, or attempt to replace this data by pulling historical data using the Coinbase API. \n",
    "Second, the Timestamp column is in epoch format and may need to be converted. Like with the previous dataset, we will utilize a date table and replace the timestamps with foreign keys. \n",
    "Finally, we can drop the Volume_(BTC) column as that is not needed, and most likely we will also not need the Open, High and Low columns but we can keep it for analysis in smaller time frames."
   ]
  }
 ],
 "metadata": {
  "kernelspec": {
   "display_name": "Python 3 (ipykernel)",
   "language": "python",
   "name": "python3"
  },
  "language_info": {
   "codemirror_mode": {
    "name": "ipython",
    "version": 3
   },
   "file_extension": ".py",
   "mimetype": "text/x-python",
   "name": "python",
   "nbconvert_exporter": "python",
   "pygments_lexer": "ipython3",
   "version": "3.9.7"
  }
 },
 "nbformat": 4,
 "nbformat_minor": 5
}
