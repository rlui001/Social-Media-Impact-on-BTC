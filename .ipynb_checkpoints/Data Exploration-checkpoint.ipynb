{
 "cells": [
  {
   "cell_type": "markdown",
   "id": "4597c2f1",
   "metadata": {},
   "source": [
    "# Data Exploration"
   ]
  },
  {
   "cell_type": "markdown",
   "id": "d93a0497",
   "metadata": {},
   "source": [
    "## 1. Google Trends Dataset\n",
    "\n",
    "To get started, I have loaded data from this dataset into a pandas dataframe in order to get a preview of the data itself."
   ]
  },
  {
   "cell_type": "code",
   "execution_count": 2,
   "id": "0aa58224",
   "metadata": {},
   "outputs": [
    {
     "data": {
      "text/html": [
       "<div>\n",
       "<style scoped>\n",
       "    .dataframe tbody tr th:only-of-type {\n",
       "        vertical-align: middle;\n",
       "    }\n",
       "\n",
       "    .dataframe tbody tr th {\n",
       "        vertical-align: top;\n",
       "    }\n",
       "\n",
       "    .dataframe thead th {\n",
       "        text-align: right;\n",
       "    }\n",
       "</style>\n",
       "<table border=\"1\" class=\"dataframe\">\n",
       "  <thead>\n",
       "    <tr style=\"text-align: right;\">\n",
       "      <th></th>\n",
       "      <th>date</th>\n",
       "      <th>bitcoin</th>\n",
       "      <th>btc</th>\n",
       "      <th>isPartial</th>\n",
       "    </tr>\n",
       "  </thead>\n",
       "  <tbody>\n",
       "    <tr>\n",
       "      <th>0</th>\n",
       "      <td>2015-01-06 00:00:00</td>\n",
       "      <td>79</td>\n",
       "      <td>9</td>\n",
       "      <td>False</td>\n",
       "    </tr>\n",
       "    <tr>\n",
       "      <th>1</th>\n",
       "      <td>2015-01-06 01:00:00</td>\n",
       "      <td>63</td>\n",
       "      <td>11</td>\n",
       "      <td>False</td>\n",
       "    </tr>\n",
       "    <tr>\n",
       "      <th>2</th>\n",
       "      <td>2015-01-06 02:00:00</td>\n",
       "      <td>67</td>\n",
       "      <td>13</td>\n",
       "      <td>False</td>\n",
       "    </tr>\n",
       "    <tr>\n",
       "      <th>3</th>\n",
       "      <td>2015-01-06 03:00:00</td>\n",
       "      <td>57</td>\n",
       "      <td>13</td>\n",
       "      <td>False</td>\n",
       "    </tr>\n",
       "    <tr>\n",
       "      <th>4</th>\n",
       "      <td>2015-01-06 04:00:00</td>\n",
       "      <td>56</td>\n",
       "      <td>17</td>\n",
       "      <td>False</td>\n",
       "    </tr>\n",
       "  </tbody>\n",
       "</table>\n",
       "</div>"
      ],
      "text/plain": [
       "                  date  bitcoin  btc  isPartial\n",
       "0  2015-01-06 00:00:00       79    9      False\n",
       "1  2015-01-06 01:00:00       63   11      False\n",
       "2  2015-01-06 02:00:00       67   13      False\n",
       "3  2015-01-06 03:00:00       57   13      False\n",
       "4  2015-01-06 04:00:00       56   17      False"
      ]
     },
     "execution_count": 2,
     "metadata": {},
     "output_type": "execute_result"
    }
   ],
   "source": [
    "import pandas as pd\n",
    "\n",
    "path = '/Users/ron/Desktop/Springboard/Data/google_trends.csv'\n",
    "df_google = pd.read_csv(path)\n",
    "df_google.head()"
   ]
  },
  {
   "cell_type": "markdown",
   "id": "527d6eef",
   "metadata": {},
   "source": [
    "We can see here that the date column is in YYYY-MM-DD HH:MM:SS format. The isPartial column is not useful for this project and can be dropped. Finally, we have columns 'bitcoin' and 'btc' which represent how these two keywords were trending. To make it more useful for analysis, we can either sum it up or take the higher of the two to better represent how it was trending.\n",
    "\n",
    "It is highly likely that a separate table will be created as a calendar table to store all possible date parts and also reduce redundancy in the other datasets. This means the date column will be replaced with foreign key to the date table, and we will use the SERIAL data type as the primary key."
   ]
  },
  {
   "cell_type": "markdown",
   "id": "91bb407a",
   "metadata": {},
   "source": [
    "## 2. Bitstamp Dataset\n",
    "\n",
    "The Bitstamp dataset will be similar to the coinbase dataset. Both will have an epoch timestamp with candlestick data along with volume. We will examine it the same way."
   ]
  },
  {
   "cell_type": "code",
   "execution_count": 5,
   "id": "a3f707f6",
   "metadata": {},
   "outputs": [
    {
     "data": {
      "text/html": [
       "<div>\n",
       "<style scoped>\n",
       "    .dataframe tbody tr th:only-of-type {\n",
       "        vertical-align: middle;\n",
       "    }\n",
       "\n",
       "    .dataframe tbody tr th {\n",
       "        vertical-align: top;\n",
       "    }\n",
       "\n",
       "    .dataframe thead th {\n",
       "        text-align: right;\n",
       "    }\n",
       "</style>\n",
       "<table border=\"1\" class=\"dataframe\">\n",
       "  <thead>\n",
       "    <tr style=\"text-align: right;\">\n",
       "      <th></th>\n",
       "      <th>Timestamp</th>\n",
       "      <th>Open</th>\n",
       "      <th>High</th>\n",
       "      <th>Low</th>\n",
       "      <th>Close</th>\n",
       "      <th>Volume_(BTC)</th>\n",
       "      <th>Volume_(Currency)</th>\n",
       "      <th>Weighted_Price</th>\n",
       "    </tr>\n",
       "  </thead>\n",
       "  <tbody>\n",
       "    <tr>\n",
       "      <th>0</th>\n",
       "      <td>1325317920</td>\n",
       "      <td>4.39</td>\n",
       "      <td>4.39</td>\n",
       "      <td>4.39</td>\n",
       "      <td>4.39</td>\n",
       "      <td>0.455581</td>\n",
       "      <td>2.0</td>\n",
       "      <td>4.39</td>\n",
       "    </tr>\n",
       "    <tr>\n",
       "      <th>1</th>\n",
       "      <td>1325317980</td>\n",
       "      <td>NaN</td>\n",
       "      <td>NaN</td>\n",
       "      <td>NaN</td>\n",
       "      <td>NaN</td>\n",
       "      <td>NaN</td>\n",
       "      <td>NaN</td>\n",
       "      <td>NaN</td>\n",
       "    </tr>\n",
       "    <tr>\n",
       "      <th>2</th>\n",
       "      <td>1325318040</td>\n",
       "      <td>NaN</td>\n",
       "      <td>NaN</td>\n",
       "      <td>NaN</td>\n",
       "      <td>NaN</td>\n",
       "      <td>NaN</td>\n",
       "      <td>NaN</td>\n",
       "      <td>NaN</td>\n",
       "    </tr>\n",
       "    <tr>\n",
       "      <th>3</th>\n",
       "      <td>1325318100</td>\n",
       "      <td>NaN</td>\n",
       "      <td>NaN</td>\n",
       "      <td>NaN</td>\n",
       "      <td>NaN</td>\n",
       "      <td>NaN</td>\n",
       "      <td>NaN</td>\n",
       "      <td>NaN</td>\n",
       "    </tr>\n",
       "    <tr>\n",
       "      <th>4</th>\n",
       "      <td>1325318160</td>\n",
       "      <td>NaN</td>\n",
       "      <td>NaN</td>\n",
       "      <td>NaN</td>\n",
       "      <td>NaN</td>\n",
       "      <td>NaN</td>\n",
       "      <td>NaN</td>\n",
       "      <td>NaN</td>\n",
       "    </tr>\n",
       "  </tbody>\n",
       "</table>\n",
       "</div>"
      ],
      "text/plain": [
       "    Timestamp  Open  High   Low  Close  Volume_(BTC)  Volume_(Currency)  \\\n",
       "0  1325317920  4.39  4.39  4.39   4.39      0.455581                2.0   \n",
       "1  1325317980   NaN   NaN   NaN    NaN           NaN                NaN   \n",
       "2  1325318040   NaN   NaN   NaN    NaN           NaN                NaN   \n",
       "3  1325318100   NaN   NaN   NaN    NaN           NaN                NaN   \n",
       "4  1325318160   NaN   NaN   NaN    NaN           NaN                NaN   \n",
       "\n",
       "   Weighted_Price  \n",
       "0            4.39  \n",
       "1             NaN  \n",
       "2             NaN  \n",
       "3             NaN  \n",
       "4             NaN  "
      ]
     },
     "execution_count": 5,
     "metadata": {},
     "output_type": "execute_result"
    }
   ],
   "source": [
    "path = '/Users/ron/Desktop/Springboard/Data/bitstampUSD_1-min_data_2012-01-01_to_2021-03-31.csv'\n",
    "df_bs = pd.read_csv(path)\n",
    "df_bs.head()"
   ]
  },
  {
   "cell_type": "markdown",
   "id": "5f83b233",
   "metadata": {},
   "source": [
    "The immediate observation here is that there are rows of data showing NaN. For whatever reason, during this period of time no exchange data was captured on Bitstamp. We have a few options here: either we clean the data by setting it to NULL, delete the rows with NaN data, or attempt to replace this data by pulling historical data using the Coinbase API. \n",
    "Second, the Timestamp column is in epoch format and may need to be converted. Like with the previous dataset, we will utilize a date table and replace the timestamps with foreign keys. \n",
    "Finally, we can drop the Volume_(BTC) and Weighted_Price column as that is not needed, and most likely we will also not need the Open, High and Low columns but we can keep it for analysis in smaller time frames."
   ]
  },
  {
   "cell_type": "markdown",
   "id": "92d59184",
   "metadata": {},
   "source": [
    "## 3. Coinbase Dataset\n",
    "\n",
    "The Coinbase dataset is expected to be similar, if not the same as the Bitstamp dataset."
   ]
  },
  {
   "cell_type": "code",
   "execution_count": 6,
   "id": "73cd4a3e",
   "metadata": {},
   "outputs": [
    {
     "data": {
      "text/html": [
       "<div>\n",
       "<style scoped>\n",
       "    .dataframe tbody tr th:only-of-type {\n",
       "        vertical-align: middle;\n",
       "    }\n",
       "\n",
       "    .dataframe tbody tr th {\n",
       "        vertical-align: top;\n",
       "    }\n",
       "\n",
       "    .dataframe thead th {\n",
       "        text-align: right;\n",
       "    }\n",
       "</style>\n",
       "<table border=\"1\" class=\"dataframe\">\n",
       "  <thead>\n",
       "    <tr style=\"text-align: right;\">\n",
       "      <th></th>\n",
       "      <th>1617235200</th>\n",
       "      <th>58756.07</th>\n",
       "      <th>59111.0</th>\n",
       "      <th>58800.01</th>\n",
       "      <th>59111.0.1</th>\n",
       "      <th>78.45167242</th>\n",
       "    </tr>\n",
       "  </thead>\n",
       "  <tbody>\n",
       "    <tr>\n",
       "      <th>0</th>\n",
       "      <td>1617234900</td>\n",
       "      <td>58698.43</td>\n",
       "      <td>58838.00</td>\n",
       "      <td>58758.31</td>\n",
       "      <td>58800.00</td>\n",
       "      <td>39.945171</td>\n",
       "    </tr>\n",
       "    <tr>\n",
       "      <th>1</th>\n",
       "      <td>1617234600</td>\n",
       "      <td>58734.14</td>\n",
       "      <td>58850.01</td>\n",
       "      <td>58850.00</td>\n",
       "      <td>58758.31</td>\n",
       "      <td>19.606259</td>\n",
       "    </tr>\n",
       "    <tr>\n",
       "      <th>2</th>\n",
       "      <td>1617234300</td>\n",
       "      <td>58815.43</td>\n",
       "      <td>58893.08</td>\n",
       "      <td>58815.43</td>\n",
       "      <td>58857.18</td>\n",
       "      <td>39.352361</td>\n",
       "    </tr>\n",
       "    <tr>\n",
       "      <th>3</th>\n",
       "      <td>1617234000</td>\n",
       "      <td>58755.42</td>\n",
       "      <td>58827.42</td>\n",
       "      <td>58773.89</td>\n",
       "      <td>58818.55</td>\n",
       "      <td>31.487434</td>\n",
       "    </tr>\n",
       "    <tr>\n",
       "      <th>4</th>\n",
       "      <td>1617233700</td>\n",
       "      <td>58751.16</td>\n",
       "      <td>58853.09</td>\n",
       "      <td>58840.22</td>\n",
       "      <td>58773.89</td>\n",
       "      <td>46.714640</td>\n",
       "    </tr>\n",
       "  </tbody>\n",
       "</table>\n",
       "</div>"
      ],
      "text/plain": [
       "   1617235200  58756.07   59111.0  58800.01  59111.0.1  78.45167242\n",
       "0  1617234900  58698.43  58838.00  58758.31   58800.00    39.945171\n",
       "1  1617234600  58734.14  58850.01  58850.00   58758.31    19.606259\n",
       "2  1617234300  58815.43  58893.08  58815.43   58857.18    39.352361\n",
       "3  1617234000  58755.42  58827.42  58773.89   58818.55    31.487434\n",
       "4  1617233700  58751.16  58853.09  58840.22   58773.89    46.714640"
      ]
     },
     "execution_count": 6,
     "metadata": {},
     "output_type": "execute_result"
    }
   ],
   "source": [
    "path = '/Users/ron/Desktop/Springboard/Data/results_cb_3-31_12-31.csv'\n",
    "df_cb = pd.read_csv(path)\n",
    "df_cb.head()"
   ]
  },
  {
   "cell_type": "markdown",
   "id": "bb2bcc8d",
   "metadata": {},
   "source": [
    "It looks like this dataset is missing a header column. Fortunately, the initial code took note of what each column stands for and we can also see that the first column is also a timestamp in epoch. For consistency, the extraction code will need to be modified to add the columns. The epoch time column will use the same date table that the other tables will be using. \n",
    "Also, it looks like the last column is for volume but the number is too small so it must be volume in BTC rather than USD. We can run a calculation to get and store the volume in USD by multiplying the close value with the BTC volume.\n",
    "We will be merging this dataset with the Bitstamp dataset, so it is imperative that both sets of data have the same columns and data formats."
   ]
  },
  {
   "cell_type": "markdown",
   "id": "18af601e",
   "metadata": {},
   "source": [
    "## 4. Twitter Dataset\n",
    "\n",
    "Finally, we have the twitter dataset. This is the most complex out of all four datasets. Let us examine a few records."
   ]
  },
  {
   "cell_type": "code",
   "execution_count": 15,
   "id": "e32c8f85",
   "metadata": {},
   "outputs": [
    {
     "data": {
      "text/html": [
       "<div>\n",
       "<style scoped>\n",
       "    .dataframe tbody tr th:only-of-type {\n",
       "        vertical-align: middle;\n",
       "    }\n",
       "\n",
       "    .dataframe tbody tr th {\n",
       "        vertical-align: top;\n",
       "    }\n",
       "\n",
       "    .dataframe thead th {\n",
       "        text-align: right;\n",
       "    }\n",
       "</style>\n",
       "<table border=\"1\" class=\"dataframe\">\n",
       "  <thead>\n",
       "    <tr style=\"text-align: right;\">\n",
       "      <th></th>\n",
       "      <th>id;user;fullname;url;timestamp;replies;likes;retweets;text</th>\n",
       "    </tr>\n",
       "  </thead>\n",
       "  <tbody>\n",
       "    <tr>\n",
       "      <th>0</th>\n",
       "      <td>1132977055300300800;KamdemAbdiel;Abdiel kamdem...</td>\n",
       "    </tr>\n",
       "    <tr>\n",
       "      <th>1</th>\n",
       "      <td>1132977073402736640;bitcointe;Bitcointe;;2019-...</td>\n",
       "    </tr>\n",
       "    <tr>\n",
       "      <th>2</th>\n",
       "      <td>1132977023893139456;3eyedbran;Bran - 3 Eyed Ra...</td>\n",
       "    </tr>\n",
       "    <tr>\n",
       "      <th>3</th>\n",
       "      <td>1132977089089556481;DetroitCrypto;J. Scardina;...</td>\n",
       "    </tr>\n",
       "    <tr>\n",
       "      <th>4</th>\n",
       "      <td>BTC: $8721.99 USD</td>\n",
       "    </tr>\n",
       "  </tbody>\n",
       "</table>\n",
       "</div>"
      ],
      "text/plain": [
       "  id;user;fullname;url;timestamp;replies;likes;retweets;text\n",
       "0  1132977055300300800;KamdemAbdiel;Abdiel kamdem...        \n",
       "1  1132977073402736640;bitcointe;Bitcointe;;2019-...        \n",
       "2  1132977023893139456;3eyedbran;Bran - 3 Eyed Ra...        \n",
       "3  1132977089089556481;DetroitCrypto;J. Scardina;...        \n",
       "4                                  BTC: $8721.99 USD        "
      ]
     },
     "execution_count": 15,
     "metadata": {},
     "output_type": "execute_result"
    }
   ],
   "source": [
    "path = '/Users/ron/Desktop/Springboard/Data/tweets.csv'\n",
    "df_t = pd.read_csv(path, nrows=5)\n",
    "df_t.head()"
   ]
  },
  {
   "cell_type": "markdown",
   "id": "d15d424f",
   "metadata": {},
   "source": [
    "Few things to mention here. First, the tweets.csv file is the largest of all the datasets (4-5GB). As a result, I had to use pd.read_csv with a parameter limiting the number of rows to pull. Next, the data is all concatenated currently but it looks like semi-colon is the delimiter. So let's re-run the code but with a parameter to separate the columns."
   ]
  },
  {
   "cell_type": "code",
   "execution_count": 16,
   "id": "e4664a44",
   "metadata": {},
   "outputs": [
    {
     "data": {
      "text/html": [
       "<div>\n",
       "<style scoped>\n",
       "    .dataframe tbody tr th:only-of-type {\n",
       "        vertical-align: middle;\n",
       "    }\n",
       "\n",
       "    .dataframe tbody tr th {\n",
       "        vertical-align: top;\n",
       "    }\n",
       "\n",
       "    .dataframe thead th {\n",
       "        text-align: right;\n",
       "    }\n",
       "</style>\n",
       "<table border=\"1\" class=\"dataframe\">\n",
       "  <thead>\n",
       "    <tr style=\"text-align: right;\">\n",
       "      <th></th>\n",
       "      <th>id</th>\n",
       "      <th>user</th>\n",
       "      <th>fullname</th>\n",
       "      <th>url</th>\n",
       "      <th>timestamp</th>\n",
       "      <th>replies</th>\n",
       "      <th>likes</th>\n",
       "      <th>retweets</th>\n",
       "      <th>text</th>\n",
       "    </tr>\n",
       "  </thead>\n",
       "  <tbody>\n",
       "    <tr>\n",
       "      <th>0</th>\n",
       "      <td>1132977055300300800</td>\n",
       "      <td>KamdemAbdiel</td>\n",
       "      <td>Abdiel kamdem</td>\n",
       "      <td>NaN</td>\n",
       "      <td>2019-05-27 11:49:14+00</td>\n",
       "      <td>0</td>\n",
       "      <td>0</td>\n",
       "      <td>0</td>\n",
       "      <td>È appena uscito un nuovo video! LES CRYPTOMONN...</td>\n",
       "    </tr>\n",
       "    <tr>\n",
       "      <th>1</th>\n",
       "      <td>1132977073402736640</td>\n",
       "      <td>bitcointe</td>\n",
       "      <td>Bitcointe</td>\n",
       "      <td>NaN</td>\n",
       "      <td>2019-05-27 11:49:18+00</td>\n",
       "      <td>0</td>\n",
       "      <td>0</td>\n",
       "      <td>0</td>\n",
       "      <td>Cardano: Digitize Currencies; EOS https://t.co...</td>\n",
       "    </tr>\n",
       "    <tr>\n",
       "      <th>2</th>\n",
       "      <td>1132977023893139456</td>\n",
       "      <td>3eyedbran</td>\n",
       "      <td>Bran - 3 Eyed Raven</td>\n",
       "      <td>NaN</td>\n",
       "      <td>2019-05-27 11:49:06+00</td>\n",
       "      <td>0</td>\n",
       "      <td>2</td>\n",
       "      <td>1</td>\n",
       "      <td>Another Test tweet that wasn't caught in the s...</td>\n",
       "    </tr>\n",
       "    <tr>\n",
       "      <th>3</th>\n",
       "      <td>1132977089089556481</td>\n",
       "      <td>DetroitCrypto</td>\n",
       "      <td>J. Scardina</td>\n",
       "      <td>NaN</td>\n",
       "      <td>2019-05-27 11:49:22+00</td>\n",
       "      <td>0</td>\n",
       "      <td>0</td>\n",
       "      <td>0</td>\n",
       "      <td>Current Crypto Prices! \\n\\nBTC: $8721.99 USD\\n...</td>\n",
       "    </tr>\n",
       "    <tr>\n",
       "      <th>4</th>\n",
       "      <td>1132977092340191232</td>\n",
       "      <td>mmursaleen72</td>\n",
       "      <td>Muhammad Mursaleen</td>\n",
       "      <td>NaN</td>\n",
       "      <td>2019-05-27 11:49:23+00</td>\n",
       "      <td>0</td>\n",
       "      <td>0</td>\n",
       "      <td>0</td>\n",
       "      <td>Spiv (Nosar Baz): BITCOIN Is An Asset &amp;amp; NO...</td>\n",
       "    </tr>\n",
       "  </tbody>\n",
       "</table>\n",
       "</div>"
      ],
      "text/plain": [
       "                    id           user             fullname  url  \\\n",
       "0  1132977055300300800   KamdemAbdiel        Abdiel kamdem  NaN   \n",
       "1  1132977073402736640      bitcointe            Bitcointe  NaN   \n",
       "2  1132977023893139456      3eyedbran  Bran - 3 Eyed Raven  NaN   \n",
       "3  1132977089089556481  DetroitCrypto          J. Scardina  NaN   \n",
       "4  1132977092340191232   mmursaleen72   Muhammad Mursaleen  NaN   \n",
       "\n",
       "                timestamp  replies  likes  retweets  \\\n",
       "0  2019-05-27 11:49:14+00        0      0         0   \n",
       "1  2019-05-27 11:49:18+00        0      0         0   \n",
       "2  2019-05-27 11:49:06+00        0      2         1   \n",
       "3  2019-05-27 11:49:22+00        0      0         0   \n",
       "4  2019-05-27 11:49:23+00        0      0         0   \n",
       "\n",
       "                                                text  \n",
       "0  È appena uscito un nuovo video! LES CRYPTOMONN...  \n",
       "1  Cardano: Digitize Currencies; EOS https://t.co...  \n",
       "2  Another Test tweet that wasn't caught in the s...  \n",
       "3  Current Crypto Prices! \\n\\nBTC: $8721.99 USD\\n...  \n",
       "4  Spiv (Nosar Baz): BITCOIN Is An Asset &amp; NO...  "
      ]
     },
     "execution_count": 16,
     "metadata": {},
     "output_type": "execute_result"
    }
   ],
   "source": [
    "path = '/Users/ron/Desktop/Springboard/Data/tweets.csv'\n",
    "df_t = pd.read_csv(path, sep=';', nrows=5)\n",
    "df_t.head()"
   ]
  },
  {
   "cell_type": "markdown",
   "id": "87e91e58",
   "metadata": {},
   "source": [
    "This is much better. Now we can see all the data fields separated. Twitter id is probably not useful since we have the user column, therefore we can drop that column. Similarly with fullname and url, they are not necessary information so we can drop those as well.\n",
    "\n",
    "In the timestamp column, we will utilize the date table that the other datasets will be using. This will ultimately reduce redundancy as well as make it easy to pull data from all tables across a certain period of time.\n",
    "\n",
    "The public metrics (replies, likes, retweets) can be useful indicators as to how much positive sentiment the viewers have towards the tweet, unfortunately there isn't any data on the total number of impressions. Because of this, to better understand how tweets may be affecting the price of bitcoin, we want to do two things:\n",
    "    - Create a new table and pull separate information on all the users that have tweeted in this dataset. We want information such as number of followers and age of account. This will help narrow down the accounts we actually want to follow when we draw comparisons between twitter activity and bitcoin price.\n",
    "    - Utilize the Textblob python library for sentiment analysis on the tweet itself. By converting the text and assigning it a quantitative value, we can use it better for analysis.\n",
    "    \n",
    "Finally, I notice that some text is not in English. Translations will need to be performed.\n",
    "\n",
    "Below is an example of how the sentiment analysis will work."
   ]
  },
  {
   "cell_type": "code",
   "execution_count": 27,
   "id": "a9e97045",
   "metadata": {},
   "outputs": [
    {
     "data": {
      "text/plain": [
       "Sentiment(polarity=0.225, subjectivity=0.5666666666666667)"
      ]
     },
     "execution_count": 27,
     "metadata": {},
     "output_type": "execute_result"
    }
   ],
   "source": [
    "from textblob import TextBlob\n",
    "\n",
    "test = TextBlob(\"#bitcoin has broken out of the downtrend, \\\n",
    "                and is currently trading above the 200 day EMA. \\\n",
    "                We about to be rich rich. NICE!!!!\")\n",
    "test.sentiment"
   ]
  },
  {
   "cell_type": "markdown",
   "id": "d8e87414",
   "metadata": {},
   "source": [
    "What does this mean? Polarity is the emotion expressed in a sentence. As we all know, the market is highly based on human emotion and often is not based on logic. Therefore the polarity value will be crucial in identifying positive/negative sentiment and how it impacts the price of bitcoin.\n",
    "Subjectivity will also be important, as the more subjective a statement is the more we know the user is highly opinionated and leaning towards positive or negative. \n",
    "In the above example we can see the text is highly opinionated and leaning positive. "
   ]
  },
  {
   "cell_type": "markdown",
   "id": "9151130e",
   "metadata": {},
   "source": [
    "## Wrap-up\n",
    "\n",
    "The tables below represent the entity-relationship diagram between all the datasets and additional data after transformation. The tweet metrics were separated from the tweets table as they are purely numerical and can be accessed separately when performing analysis against other metrics. There is also a twitter_accounts table that will contain account information such as number of followers which will make a clear distinction between influencers and normal users. Finally, there is a datetime table which all the main tables will reference."
   ]
  },
  {
   "attachments": {
    "Data%20Exploration.png": {
     "image/png": "[encoded data removed]"
    }
   },
   "cell_type": "markdown",
   "id": "509111f7",
   "metadata": {},
   "source": [
    "![Data%20Exploration.png](attachment:Data%20Exploration.png)"
   ]
  }
 ],
 "metadata": {
  "kernelspec": {
   "display_name": "Python 3 (ipykernel)",
   "language": "python",
   "name": "python3"
  },
  "language_info": {
   "codemirror_mode": {
    "name": "ipython",
    "version": 3
   },
   "file_extension": ".py",
   "mimetype": "text/x-python",
   "name": "python",
   "nbconvert_exporter": "python",
   "pygments_lexer": "ipython3",
   "version": "3.9.7"
  }
 },
 "nbformat": 4,
 "nbformat_minor": 5
}
